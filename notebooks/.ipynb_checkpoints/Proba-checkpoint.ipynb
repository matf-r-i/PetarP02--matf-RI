{
 "cells": [
  {
   "cell_type": "code",
   "execution_count": 1,
   "metadata": {},
   "outputs": [
    {
     "name": "stdout",
     "output_type": "stream",
     "text": [
      "C:\\vlado\\Courses\\Matf\\matf-r-i--PetarP02--matf-RI\\.venv\\Scripts\\python.exe\n"
     ]
    }
   ],
   "source": [
    "import sys\n",
    "print(sys.executable)"
   ]
  },
  {
   "cell_type": "code",
   "execution_count": 2,
   "metadata": {},
   "outputs": [
    {
     "name": "stdout",
     "output_type": "stream",
     "text": [
      "Note: you may need to restart the kernel to use updated packages.\n"
     ]
    },
    {
     "name": "stderr",
     "output_type": "stream",
     "text": [
      "ERROR: Could not find a version that satisfies the requirement gurobypy (from versions: none)\n",
      "ERROR: No matching distribution found for gurobypy\n",
      "\n",
      "[notice] A new release of pip is available: 24.1 -> 24.3.1\n",
      "[notice] To update, run: python.exe -m pip install --upgrade pip\n"
     ]
    },
    {
     "name": "stdout",
     "output_type": "stream",
     "text": [
      "Requirement already satisfied: linopy in c:\\vlado\\courses\\matf\\matf-r-i--petarp02--matf-ri\\.venv\\lib\\site-packages (0.4.3)\n",
      "Requirement already satisfied: numpy<2.0 in c:\\vlado\\courses\\matf\\matf-r-i--petarp02--matf-ri\\.venv\\lib\\site-packages (from linopy) (1.26.4)\n",
      "Requirement already satisfied: scipy in c:\\vlado\\courses\\matf\\matf-r-i--petarp02--matf-ri\\.venv\\lib\\site-packages (from linopy) (1.14.1)\n",
      "Requirement already satisfied: bottleneck in c:\\vlado\\courses\\matf\\matf-r-i--petarp02--matf-ri\\.venv\\lib\\site-packages (from linopy) (1.4.2)\n",
      "Requirement already satisfied: toolz in c:\\vlado\\courses\\matf\\matf-r-i--petarp02--matf-ri\\.venv\\lib\\site-packages (from linopy) (1.0.0)\n",
      "Requirement already satisfied: numexpr in c:\\vlado\\courses\\matf\\matf-r-i--petarp02--matf-ri\\.venv\\lib\\site-packages (from linopy) (2.10.2)\n",
      "Requirement already satisfied: xarray>=2024.2.0 in c:\\vlado\\courses\\matf\\matf-r-i--petarp02--matf-ri\\.venv\\lib\\site-packages (from linopy) (2024.11.0)\n",
      "Requirement already satisfied: dask>=0.18.0 in c:\\vlado\\courses\\matf\\matf-r-i--petarp02--matf-ri\\.venv\\lib\\site-packages (from linopy) (2024.12.0)\n",
      "Requirement already satisfied: polars in c:\\vlado\\courses\\matf\\matf-r-i--petarp02--matf-ri\\.venv\\lib\\site-packages (from linopy) (1.17.0)\n",
      "Requirement already satisfied: tqdm in c:\\vlado\\courses\\matf\\matf-r-i--petarp02--matf-ri\\.venv\\lib\\site-packages (from linopy) (4.67.1)\n",
      "Requirement already satisfied: deprecation in c:\\vlado\\courses\\matf\\matf-r-i--petarp02--matf-ri\\.venv\\lib\\site-packages (from linopy) (2.1.0)\n",
      "Requirement already satisfied: click>=8.1 in c:\\vlado\\courses\\matf\\matf-r-i--petarp02--matf-ri\\.venv\\lib\\site-packages (from dask>=0.18.0->linopy) (8.1.7)\n",
      "Requirement already satisfied: cloudpickle>=3.0.0 in c:\\vlado\\courses\\matf\\matf-r-i--petarp02--matf-ri\\.venv\\lib\\site-packages (from dask>=0.18.0->linopy) (3.1.0)\n",
      "Requirement already satisfied: fsspec>=2021.09.0 in c:\\vlado\\courses\\matf\\matf-r-i--petarp02--matf-ri\\.venv\\lib\\site-packages (from dask>=0.18.0->linopy) (2024.10.0)\n",
      "Requirement already satisfied: packaging>=20.0 in c:\\vlado\\courses\\matf\\matf-r-i--petarp02--matf-ri\\.venv\\lib\\site-packages (from dask>=0.18.0->linopy) (24.2)\n",
      "Requirement already satisfied: partd>=1.4.0 in c:\\vlado\\courses\\matf\\matf-r-i--petarp02--matf-ri\\.venv\\lib\\site-packages (from dask>=0.18.0->linopy) (1.4.2)\n",
      "Requirement already satisfied: pyyaml>=5.3.1 in c:\\vlado\\courses\\matf\\matf-r-i--petarp02--matf-ri\\.venv\\lib\\site-packages (from dask>=0.18.0->linopy) (6.0.2)\n",
      "Requirement already satisfied: pandas>=2.1 in c:\\vlado\\courses\\matf\\matf-r-i--petarp02--matf-ri\\.venv\\lib\\site-packages (from xarray>=2024.2.0->linopy) (2.2.3)\n",
      "Requirement already satisfied: colorama in c:\\vlado\\courses\\matf\\matf-r-i--petarp02--matf-ri\\.venv\\lib\\site-packages (from tqdm->linopy) (0.4.6)\n",
      "Requirement already satisfied: python-dateutil>=2.8.2 in c:\\vlado\\courses\\matf\\matf-r-i--petarp02--matf-ri\\.venv\\lib\\site-packages (from pandas>=2.1->xarray>=2024.2.0->linopy) (2.9.0.post0)\n",
      "Requirement already satisfied: pytz>=2020.1 in c:\\vlado\\courses\\matf\\matf-r-i--petarp02--matf-ri\\.venv\\lib\\site-packages (from pandas>=2.1->xarray>=2024.2.0->linopy) (2024.2)\n",
      "Requirement already satisfied: tzdata>=2022.7 in c:\\vlado\\courses\\matf\\matf-r-i--petarp02--matf-ri\\.venv\\lib\\site-packages (from pandas>=2.1->xarray>=2024.2.0->linopy) (2024.2)\n",
      "Requirement already satisfied: locket in c:\\vlado\\courses\\matf\\matf-r-i--petarp02--matf-ri\\.venv\\lib\\site-packages (from partd>=1.4.0->dask>=0.18.0->linopy) (1.0.0)\n",
      "Requirement already satisfied: six>=1.5 in c:\\vlado\\courses\\matf\\matf-r-i--petarp02--matf-ri\\.venv\\lib\\site-packages (from python-dateutil>=2.8.2->pandas>=2.1->xarray>=2024.2.0->linopy) (1.17.0)\n",
      "Note: you may need to restart the kernel to use updated packages.\n"
     ]
    },
    {
     "name": "stderr",
     "output_type": "stream",
     "text": [
      "\n",
      "[notice] A new release of pip is available: 24.1 -> 24.3.1\n",
      "[notice] To update, run: python.exe -m pip install --upgrade pip\n"
     ]
    }
   ],
   "source": [
    "#%pip install gurobypy\n",
    "#%pip install linopy"
   ]
  },
  {
   "cell_type": "code",
   "execution_count": 3,
   "metadata": {},
   "outputs": [
    {
     "name": "stdout",
     "output_type": "stream",
     "text": [
      "Linopy LP model\n",
      "===============\n",
      "\n",
      "Variables:\n",
      "----------\n",
      " * sargarepa\n",
      " * krompir\n",
      "\n",
      "Constraints:\n",
      "------------\n",
      " * Maksimalno 4 tone sargarepe\n",
      " * Maksimalno 3 tone krompira\n",
      " * Maksimalno 5 tona djubriva\n",
      "\n",
      "Status:\n",
      "-------\n",
      "initialized\n",
      "Set parameter Username\n",
      "Academic license - for non-commercial use only - expires 2025-10-07\n",
      "Read LP format model from file C:\\Users\\Vlado\\AppData\\Local\\Temp\\linopy-problem-us2dzsdp.lp\n",
      "Reading time = 0.00 seconds\n",
      "obj: 3 rows, 2 columns, 4 nonzeros\n",
      "Gurobi Optimizer version 11.0.3 build v11.0.3rc0 (win64 - Windows 11.0 (22631.2))\n",
      "\n",
      "CPU model: Intel(R) Core(TM) i7-8750H CPU @ 2.20GHz, instruction set [SSE2|AVX|AVX2]\n",
      "Thread count: 6 physical cores, 12 logical processors, using up to 12 threads\n",
      "\n",
      "Optimize a model with 3 rows, 2 columns and 4 nonzeros\n",
      "Model fingerprint: 0xd4bc8e95\n",
      "Coefficient statistics:\n",
      "  Matrix range     [1e+00, 1e+00]\n",
      "  Objective range  [1e+00, 2e+00]\n",
      "  Bounds range     [0e+00, 0e+00]\n",
      "  RHS range        [3e+03, 5e+03]\n",
      "Presolve removed 2 rows and 0 columns\n",
      "Presolve time: 0.01s\n",
      "Presolved: 1 rows, 2 columns, 2 nonzeros\n",
      "\n",
      "Iteration    Objective       Primal Inf.    Dual Inf.      Time\n",
      "       0    8.5000000e+03   1.250000e+02   0.000000e+00      0s\n",
      "       1    8.0000000e+03   0.000000e+00   0.000000e+00      0s\n",
      "\n",
      "Solved in 1 iterations and 0.01 seconds (0.00 work units)\n",
      "Optimal objective  8.000000000e+03\n",
      "Variable\n",
      "--------\n",
      "sargarepa ∈ [0, inf]:<xarray.DataArray 'solution' ()> Size: 8B\n",
      "array(4000.)\n",
      "\n",
      "Variable\n",
      "--------\n",
      "krompir ∈ [0, inf]:<xarray.DataArray 'solution' ()> Size: 8B\n",
      "array(1000.)\n",
      "\n"
     ]
    }
   ],
   "source": [
    "from linopy import Model\n",
    "\n",
    "m = Model()\n",
    "\n",
    "x1 = m.add_variables(lower=0, name=\"sargarepa\")\n",
    "x2 = m.add_variables(lower=0, name=\"krompir\")\n",
    "\n",
    "m.add_objective(1.7*x1 + 1.2*x2, sense='max')\n",
    "\n",
    "m.add_constraints(x1 <= 4000, name=\"Maksimalno 4 tone sargarepe\")\n",
    "m.add_constraints(x2 <= 3000, name=\"Maksimalno 3 tone krompira\")\n",
    "m.add_constraints(x1+x2 <= 5000, name=\"Maksimalno 5 tona djubriva\")\n",
    "\n",
    "print(m)\n",
    "\n",
    "m.solve()\n",
    "\n",
    "print(\"{}:{}\\n\".format(x1, x1.solution))\n",
    "print(\"{}:{}\\n\".format(x2, x2.solution))"
   ]
  }
 ],
 "metadata": {
  "kernelspec": {
   "display_name": "Python 3 (ipykernel)",
   "language": "python",
   "name": "python3"
  },
  "language_info": {
   "codemirror_mode": {
    "name": "ipython",
    "version": 3
   },
   "file_extension": ".py",
   "mimetype": "text/x-python",
   "name": "python",
   "nbconvert_exporter": "python",
   "pygments_lexer": "ipython3",
   "version": "3.12.5"
  }
 },
 "nbformat": 4,
 "nbformat_minor": 4
}
